{
 "cells": [
  {
   "cell_type": "code",
   "execution_count": 1,
   "metadata": {},
   "outputs": [],
   "source": [
    "import urllib.request\n",
    "import zipfile\n",
    "import pandas\n",
    "import numpy\n",
    "import re\n",
    "import nltk\n",
    "from sklearn.metrics import f1_score\n",
    "\n",
    "from langdetect import detect\n",
    "from googletrans import Translator"
   ]
  },
  {
   "cell_type": "code",
   "execution_count": 2,
   "metadata": {},
   "outputs": [],
   "source": [
    "# #Fetching dataset\n",
    "# url = \"https://github.com/signerebassoo/COMP3222/blob/master/assignment-comp3222-comp6246-mediaeval2015-dataset.zip?raw=true\"\n",
    "# filename = \"mediaeval.zip\"\n",
    "# urllib.request.urlretrieve(url, filename)\n",
    "\n",
    "# #Extracting zip\n",
    "# zfile = zipfile.ZipFile(\"mediaeval.zip\", \"r\")\n",
    "# zfile.extractall()\n",
    "# zfile.close()"
   ]
  },
  {
   "cell_type": "code",
   "execution_count": 3,
   "metadata": {},
   "outputs": [],
   "source": [
    "trainData = pandas.read_csv(\"mediaeval-2015-trainingset.txt\", sep=\"\t\")\n",
    "testData = pandas.read_csv(\"mediaeval-2015-testset.txt\", sep=\"\t\")\n",
    "\n",
    "#Creating DataFrames for training and testing\n",
    "df_train = pandas.DataFrame(data = trainData)\n",
    "df_test = pandas.DataFrame(data = testData)"
   ]
  },
  {
   "cell_type": "markdown",
   "metadata": {},
   "source": [
    "# Data Characterization"
   ]
  },
  {
   "cell_type": "code",
   "execution_count": 4,
   "metadata": {},
   "outputs": [
    {
     "data": {
      "text/html": [
       "<div>\n",
       "<style scoped>\n",
       "    .dataframe tbody tr th:only-of-type {\n",
       "        vertical-align: middle;\n",
       "    }\n",
       "\n",
       "    .dataframe tbody tr th {\n",
       "        vertical-align: top;\n",
       "    }\n",
       "\n",
       "    .dataframe thead th {\n",
       "        text-align: right;\n",
       "    }\n",
       "</style>\n",
       "<table border=\"1\" class=\"dataframe\">\n",
       "  <thead>\n",
       "    <tr style=\"text-align: right;\">\n",
       "      <th></th>\n",
       "      <th>tweetId</th>\n",
       "      <th>tweetText</th>\n",
       "      <th>userId</th>\n",
       "      <th>imageId(s)</th>\n",
       "      <th>username</th>\n",
       "      <th>timestamp</th>\n",
       "      <th>label</th>\n",
       "    </tr>\n",
       "  </thead>\n",
       "  <tbody>\n",
       "    <tr>\n",
       "      <th>0</th>\n",
       "      <td>263046056240115712</td>\n",
       "      <td>¿Se acuerdan de la película: “El día después d...</td>\n",
       "      <td>21226711</td>\n",
       "      <td>sandyA_fake_46</td>\n",
       "      <td>iAnnieM</td>\n",
       "      <td>Mon Oct 29 22:34:01 +0000 2012</td>\n",
       "      <td>fake</td>\n",
       "    </tr>\n",
       "    <tr>\n",
       "      <th>1</th>\n",
       "      <td>262995061304852481</td>\n",
       "      <td>@milenagimon: Miren a Sandy en NY!  Tremenda i...</td>\n",
       "      <td>192378571</td>\n",
       "      <td>sandyA_fake_09</td>\n",
       "      <td>CarlosVerareal</td>\n",
       "      <td>Mon Oct 29 19:11:23 +0000 2012</td>\n",
       "      <td>fake</td>\n",
       "    </tr>\n",
       "    <tr>\n",
       "      <th>2</th>\n",
       "      <td>262979898002534400</td>\n",
       "      <td>Buena la foto del Huracán Sandy, me recuerda a...</td>\n",
       "      <td>132303095</td>\n",
       "      <td>sandyA_fake_09</td>\n",
       "      <td>LucasPalape</td>\n",
       "      <td>Mon Oct 29 18:11:08 +0000 2012</td>\n",
       "      <td>fake</td>\n",
       "    </tr>\n",
       "    <tr>\n",
       "      <th>3</th>\n",
       "      <td>262996108400271360</td>\n",
       "      <td>Scary shit #hurricane #NY http://t.co/e4JLBUfH</td>\n",
       "      <td>241995902</td>\n",
       "      <td>sandyA_fake_29</td>\n",
       "      <td>Haaaaarryyy</td>\n",
       "      <td>Mon Oct 29 19:15:33 +0000 2012</td>\n",
       "      <td>fake</td>\n",
       "    </tr>\n",
       "    <tr>\n",
       "      <th>4</th>\n",
       "      <td>263018881839411200</td>\n",
       "      <td>My fave place in the world #nyc #hurricane #sa...</td>\n",
       "      <td>250315890</td>\n",
       "      <td>sandyA_fake_15</td>\n",
       "      <td>princess__natt</td>\n",
       "      <td>Mon Oct 29 20:46:02 +0000 2012</td>\n",
       "      <td>fake</td>\n",
       "    </tr>\n",
       "  </tbody>\n",
       "</table>\n",
       "</div>"
      ],
      "text/plain": [
       "              tweetId                                          tweetText  \\\n",
       "0  263046056240115712  ¿Se acuerdan de la película: “El día después d...   \n",
       "1  262995061304852481  @milenagimon: Miren a Sandy en NY!  Tremenda i...   \n",
       "2  262979898002534400  Buena la foto del Huracán Sandy, me recuerda a...   \n",
       "3  262996108400271360     Scary shit #hurricane #NY http://t.co/e4JLBUfH   \n",
       "4  263018881839411200  My fave place in the world #nyc #hurricane #sa...   \n",
       "\n",
       "      userId      imageId(s)        username                       timestamp  \\\n",
       "0   21226711  sandyA_fake_46         iAnnieM  Mon Oct 29 22:34:01 +0000 2012   \n",
       "1  192378571  sandyA_fake_09  CarlosVerareal  Mon Oct 29 19:11:23 +0000 2012   \n",
       "2  132303095  sandyA_fake_09     LucasPalape  Mon Oct 29 18:11:08 +0000 2012   \n",
       "3  241995902  sandyA_fake_29     Haaaaarryyy  Mon Oct 29 19:15:33 +0000 2012   \n",
       "4  250315890  sandyA_fake_15  princess__natt  Mon Oct 29 20:46:02 +0000 2012   \n",
       "\n",
       "  label  \n",
       "0  fake  \n",
       "1  fake  \n",
       "2  fake  \n",
       "3  fake  \n",
       "4  fake  "
      ]
     },
     "execution_count": 4,
     "metadata": {},
     "output_type": "execute_result"
    }
   ],
   "source": [
    "trainData.head()"
   ]
  },
  {
   "cell_type": "code",
   "execution_count": 5,
   "metadata": {},
   "outputs": [
    {
     "name": "stdout",
     "output_type": "stream",
     "text": [
      "<class 'pandas.core.frame.DataFrame'>\n",
      "RangeIndex: 14277 entries, 0 to 14276\n",
      "Data columns (total 7 columns):\n",
      " #   Column      Non-Null Count  Dtype \n",
      "---  ------      --------------  ----- \n",
      " 0   tweetId     14277 non-null  int64 \n",
      " 1   tweetText   14277 non-null  object\n",
      " 2   userId      14277 non-null  int64 \n",
      " 3   imageId(s)  14277 non-null  object\n",
      " 4   username    14277 non-null  object\n",
      " 5   timestamp   14277 non-null  object\n",
      " 6   label       14277 non-null  object\n",
      "dtypes: int64(2), object(5)\n",
      "memory usage: 780.9+ KB\n"
     ]
    }
   ],
   "source": [
    "trainData.info() #Metadata of training data, including size"
   ]
  },
  {
   "cell_type": "code",
   "execution_count": 6,
   "metadata": {},
   "outputs": [
    {
     "name": "stdout",
     "output_type": "stream",
     "text": [
      "<class 'pandas.core.frame.DataFrame'>\n",
      "RangeIndex: 3755 entries, 0 to 3754\n",
      "Data columns (total 7 columns):\n",
      " #   Column      Non-Null Count  Dtype \n",
      "---  ------      --------------  ----- \n",
      " 0   tweetId     3755 non-null   int64 \n",
      " 1   tweetText   3755 non-null   object\n",
      " 2   userId      3755 non-null   int64 \n",
      " 3   imageId(s)  3755 non-null   object\n",
      " 4   username    3755 non-null   object\n",
      " 5   timestamp   3755 non-null   object\n",
      " 6   label       3755 non-null   object\n",
      "dtypes: int64(2), object(5)\n",
      "memory usage: 205.5+ KB\n"
     ]
    }
   ],
   "source": [
    "testData.info()"
   ]
  },
  {
   "cell_type": "code",
   "execution_count": 7,
   "metadata": {},
   "outputs": [
    {
     "data": {
      "text/plain": [
       "(14277, 7)"
      ]
     },
     "execution_count": 7,
     "metadata": {},
     "output_type": "execute_result"
    }
   ],
   "source": [
    "df_train.shape"
   ]
  },
  {
   "cell_type": "code",
   "execution_count": 8,
   "metadata": {},
   "outputs": [
    {
     "data": {
      "text/plain": [
       "(3755, 7)"
      ]
     },
     "execution_count": 8,
     "metadata": {},
     "output_type": "execute_result"
    }
   ],
   "source": [
    "df_test.shape #Size of testing data"
   ]
  },
  {
   "cell_type": "code",
   "execution_count": 9,
   "metadata": {
    "scrolled": true
   },
   "outputs": [
    {
     "name": "stdout",
     "output_type": "stream",
     "text": [
      "imgs\n",
      "boston                 546\n",
      "bringback              131\n",
      "columbianChemicals     185\n",
      "elephant                13\n",
      "livr                     9\n",
      "malaysia               501\n",
      "passport                46\n",
      "pigFish                 14\n",
      "sandyA                9695\n",
      "sandyB                2621\n",
      "sochi                  402\n",
      "underwater             112\n",
      "Name: tweetId, dtype: int64\n"
     ]
    }
   ],
   "source": [
    "#Determine events covered and their frequency by image names in training data\n",
    "df_train.rename(columns = {'imageId(s)':'imgs'}, inplace = True)\n",
    "imgCount = df_train.groupby(df_train.imgs.str.split('_').str[0])['tweetId'].nunique()\n",
    "print (imgCount)"
   ]
  },
  {
   "cell_type": "code",
   "execution_count": 10,
   "metadata": {},
   "outputs": [
    {
     "name": "stdout",
     "output_type": "stream",
     "text": [
      "imgs\n",
      "eclipse        277\n",
      "garissa         77\n",
      "nepal         1353\n",
      "samurai        218\n",
      "syrianboy     1769\n",
      "varoufakis      61\n",
      "Name: tweetId, dtype: int64\n"
     ]
    }
   ],
   "source": [
    "#Determine events covered and their frequency by image names in testing data\n",
    "df_test.rename(columns = {'imageId(s)':'imgs'}, inplace = True)\n",
    "imgCount = df_test.groupby(df_test.imgs.str.split('_').str[0])['tweetId'].nunique()\n",
    "print (imgCount)"
   ]
  },
  {
   "cell_type": "code",
   "execution_count": 11,
   "metadata": {
    "scrolled": true
   },
   "outputs": [
    {
     "name": "stdout",
     "output_type": "stream",
     "text": [
      "¿Se acuerdan de la película: “El día después de mañana”? Me recuerda a lo que está pasando con el huracán #Sandy. http://t.co/JQQeRPwN\n",
      "@milenagimon: Miren a Sandy en NY!  Tremenda imagen del huracán. Parece el \"Día de la Independencia 2\" http://t.co/41jUweux REAL! RT.\n",
      "Buena la foto del Huracán Sandy, me recuerda a la película Día de la Independencia #ID4 #Sandy  http://t.co/PTdAXABZ\n",
      "Scary shit #hurricane #NY http://t.co/e4JLBUfH\n",
      "My fave place in the world #nyc #hurricane #sandy #statueofliberty 🗽 http://t.co/Ex61doZk\n",
      "42nd #time #square #NYC #subway #hurricane http://t.co/daX5YY7X\n",
      "Just in time for #halloween a photo of #hurricane #sandy #frankenstorm http://t.co/xquKB4VN\n",
      "Crazy pic of #Hurricane #Sandy prayers go out to family and friends on the East Coast http://t.co/c4sceiMt\n",
      "#sandy #newyork #hurricane #statueofliberty #USA http://t.co/iQfEbO1E\n",
      "#nyc #hurricane http://t.co/Gv3QxZlq\n",
      "robertosalibaba  god be with u brother #sandy #hurricane #newyork http://t.co/GXheTqlO\n",
      "#Crazy #Hurricane #Sandy http://t.co/0zrMsgvs\n",
      "#shark #newjersey #swim #sandy #hurricane  http://t.co/2i4WuGvP\n",
      "Good luck #ny #newyork #usa #hurricane #sandy http://t.co/0y435Anw\n",
      "Wow.... Fishing anyone? #hurricane #sandy http://t.co/LS0Kx0zm\n",
      "Well #howdy there #hurricane #sandy . Just wanted to let you know that you took my power, internet, &amp;&amp; happi http://t.co/qKxLQEmT\n",
      "Just known this bcs of #jason #chen updated the pic! Everyone be safe! #newyork #sandy #hurricane #nature #e http://t.co/c6VTaBkT\n",
      "My thoughts and prayers go to all of the people going thru #hurricane #sandy #ct #de #ma #md #me #nc #nh #nj http://t.co/kvKzXOg1\n",
      "Stay safe my New York family...#nyc #newyork #storm #hurricane #wind http://t.co/iSdoZmLs\n",
      "New York #hurricane #Sandy http://t.co/AnrR8u7t\n",
      "Probably the coolest pic of #hurricanesandy! #hurricane #sandy #weather #storm #statueofliberty http://t.co/RCf5ZKrn\n",
      "Crazy #sandy #hurricane images. Be glad we live in the #west coast. http://t.co/c2wYXDao\n",
      "My cousin sent this to me... :: Cleveland voice :: We gon' die!!! ☁⚡☔🌊 #hurricane #hurricanesandy #sandy http://t.co/XtW4exLn\n",
      "We forget tomb unknown soldier is guard 24/7365 ! Taken today #hurricane #sandy #frankenstorm http://t.co/mFEfmCMk\n",
      "“@DarcyPhilip #new #york #hurricane #sandy http://t.co/z82Y0Kah” Bruh\n",
      "New York \"attacked\" by Sandy.  #NewYork #statueofliberty #hurricane #Sandy #dark #attack #sky #picoftheday # http://t.co/6PSNTCj9\n",
      "This is sooo cute! #puupy #dog #hurricane #sandy #cute #adorable #flood #trees #golden #retriever #classic ☺ http://t.co/7nXoqVIY\n",
      "empty streets #nyc #hurricane #sandy http://t.co/Uro00bM7\n",
      "Shark. #Sandy #JerseyIThink #Hurricane #NYC #SomethingIsntRight #Animals #Shark #NaturalDisasterOrNot http://t.co/rylmIz5H\n",
      "Craziest picture ever #hurricane http://t.co/KaF8zQPE\n",
      "#hurricane #sandy #WOW #NYC http://t.co/Gs7YMXXC\n",
      "So New York is getting a little rain... #Hurricane #Sandy http://t.co/frWrVIss\n",
      "The Tomb of the Unknown #Marines never take the #DayOff #Respect #NoDaysOff #Hurricane #Sandy #Superstorm http://t.co/sxsoJER6\n",
      "Lord have mercy on their souls #Hurricane #Sandy #NewYork #RIP http://t.co/MYJpbl11\n",
      "Look at this amazing pic taken today of #sandy #NYC #NewYorkCity #LadyLiberty #Hurricane #Amazing #Weather http://t.co/H4v7NbnI\n",
      "Mans best friend #love #hurricane #sandy #dog http://t.co/rJPcUYUn\n",
      "#hurricane http://t.co/0ifMPBuq\n",
      "Terrifying. #NY #hurricane #sandy #statueofliberty http://t.co/MSduqf2r\n",
      "#hurricane #sandy lookin like a bag of money http://t.co/lIWWuj6U\n",
      "Crazy shot of #Hurricane #Sandy http://t.co/EQRFTgbD\n",
      "wow! #hurricane #Sandy over lady liberty  http://t.co/UbNMPbru via @TwitPic\n",
      "UMMMM😳 #shark #hurricane #nj WOAHH http://t.co/ach2BzUW\n",
      "#amazing #photography #nature #hurricane #sandy #clouds http://t.co/04kgQRRZ\n",
      "So...that's a shark swimming in someone's front yard in NJ. #Sandy #shark #landshark #hurricane #fishing #be http://t.co/Vy7NOhKp\n",
      "uh #hurricane #sandy #wind #blowing #cloudy #water #### # http://t.co/OVPam68k\n",
      "#hurricane #sandy #NY #NewYork http://t.co/EtktgqAt\n",
      "Damnnn dis joint look like those end of the world movies #repost #rp #hurricane #sandy http://t.co/6lzyWDj1\n",
      "#hurricane #sandy #NY #newyork #america #usa #sky #tube #instago #instaboy #instahub #i#instagood #instagram http://t.co/MMqpZxE8\n",
      "#NewYork #Crazy #Statue #Liberty #Hurricane #Today #Nature #2012 http://t.co/wi5DuGPH\n",
      "😱 #shark #nyc #streets #sandy #hurricane http://t.co/NcudDwxJ\n",
      "A picture someone took of a shark swimming by their house when it got flooded 😱 \\n#NewJersey #Hurricane #Sand http://t.co/OCXLWDFY\n",
      "I hope the East Coast is doing well in those times. Thoughts are with y'all xo #hurricane #sandy #eastcoast http://t.co/9nKj08t8\n",
      "It's gettin real out in this bitch.. #repost #sandy #hurricane #bitchimashark http://t.co/s3hfZXTY\n",
      "#2012 #statueofliberty #NYC #world #ends #hurricane #sandy 😳😳 http://t.co/qYPMgIrH\n",
      "#NY #hurricane #cool http://t.co/XbXap7JQ\n",
      "The Eye of The Storm... #Hurricane #Sandy http://t.co/0mMUrbZN\n",
      "#timesquare #newyork #nyc #ghostcity #hurricane #sandy http://t.co/hsVUO6Fn\n",
      "#newyork #hurricane #sandy http://t.co/8wcCP9c5\n",
      "Hope all my family and friends on the east coast stay safe!! #Hurricane #sandy #ilovecali #storm #clouds #ra http://t.co/dHjMlGrc\n",
      "#hurricane http://t.co/RKNYPVU8\n",
      "#Hurricane #Sandy #NYC 🌀☔🗽 http://t.co/gNLZiF29\n"
     ]
    }
   ],
   "source": [
    "#Helper to look into the tweetText of a particular event image to determine what the event is\n",
    "selector = []\n",
    "for imgs in df_train['imgs']:\n",
    "    if \"sandy\" in imgs:\n",
    "        selector.append(True)\n",
    "    else:\n",
    "        selector.append(False)\n",
    "        \n",
    "isEvent = pandas.Series(selector)\n",
    "\n",
    "df_event = df_train[isEvent].head(61)\n",
    "\n",
    "for tweet in df_event['tweetText']:\n",
    "    print(tweet)"
   ]
  },
  {
   "cell_type": "code",
   "execution_count": 12,
   "metadata": {},
   "outputs": [
    {
     "name": "stdout",
     "output_type": "stream",
     "text": [
      "Man sandy Foreal??  ⚡⚡⚡☔☔⚡🌊🌊☁🚣⛵💡🔌🚬🚬🚬🔫🔫🔒🔒🔐🔑🔒🚪🚪🚪🔨🔨🔨🏊🏊🏊🏊🎣🎣🎣😱😰😖😫😩😤💨💨💨💨💦💦💦💧💦💥💥💥👽💩🙌🙌🙌🙌🙌🏃🏃🏃🏃🏃👫👭💏👪👪👬👭💑🙇🌕🌕🌕🌎 http://t.co/vEWVXy10\n"
     ]
    }
   ],
   "source": [
    "langs = dict()\n",
    "\n",
    "for tweet in df_train['tweetText']:\n",
    "    try:\n",
    "        lan = detect(tweet)\n",
    "    except:\n",
    "        pass\n",
    "        lan = \"Unknown\"\n",
    "        print(tweet)\n",
    "    if lan in langs.keys():\n",
    "        langs[lan] = langs[lan] + 1\n",
    "    else:\n",
    "        langs[lan] = 1"
   ]
  },
  {
   "cell_type": "markdown",
   "metadata": {},
   "source": [
    "💧🙌🌕🌎🙌🙌🏃??  ⚡⚡☔⚡🌊⚡☔🌊🚬🔑🔒🚪🚬🔫🔫🔒☁🚣⛵💡🔌🚬🔒🔐🎣🎣😱🔨😖🚪🚪😫💦😩😤🔨💦🎣💦🔨🏊🏊💨🏊💨💨💥💥💦💥👽💩👪👬🏃🏃🏃🏃👫👭💑🙌💨🏊🙌👭💏👪🙇🌕🌕😰 "
   ]
  },
  {
   "cell_type": "code",
   "execution_count": 13,
   "metadata": {},
   "outputs": [
    {
     "name": "stdout",
     "output_type": "stream",
     "text": [
      "{'es': 1292, 'en': 10955, 'da': 29, 'sq': 9, 'bg': 9, 'it': 104, 'no': 40, 'fr': 214, 'nl': 89, 'pt': 160, 'de': 122, 'tl': 307, 'sv': 47, 'cy': 125, 'id': 180, 'ru': 60, 'ja': 21, 'ar': 79, 'vi': 13, 'ca': 35, 'hu': 5, 'so': 122, 'fi': 11, 'pl': 40, 'lt': 7, 'sk': 14, 'af': 69, 'el': 5, 'he': 1, 'hr': 4, 'tr': 30, 'zh-cn': 9, 'ro': 5, 'fa': 4, 'sl': 6, 'et': 10, 'sw': 14, 'ko': 6, 'th': 19, 'cs': 2, 'Unknown': 1, 'mk': 1, 'hi': 1, 'lv': 1}\n"
     ]
    }
   ],
   "source": [
    "print (langs)"
   ]
  },
  {
   "cell_type": "markdown",
   "metadata": {},
   "source": [
    "# Data Preprocessing"
   ]
  },
  {
   "cell_type": "code",
   "execution_count": 14,
   "metadata": {},
   "outputs": [],
   "source": [
    "#Changing 'humor' to 'fake'\n",
    "df_train.loc[(df_train.label == 'humor'),'label'] = 'fake'\n",
    "df_test.loc[(df_test.label == 'humor'),'label'] = 'fake'"
   ]
  },
  {
   "cell_type": "code",
   "execution_count": 15,
   "metadata": {},
   "outputs": [
    {
     "name": "stderr",
     "output_type": "stream",
     "text": [
      "D:\\Anaconda\\lib\\site-packages\\pandas\\core\\strings\\accessor.py:101: UserWarning: This pattern has match groups. To actually get the groups, use str.extract.\n",
      "  return func(self, *args, **kwargs)\n"
     ]
    },
    {
     "data": {
      "text/plain": [
       "(11550, 7)"
      ]
     },
     "execution_count": 15,
     "metadata": {},
     "output_type": "execute_result"
    }
   ],
   "source": [
    "#Removing retweets, reposts, and modified tweets\n",
    "rtPattern1 = \"(RT|rt|MT|mt|RP|rp):? @\\w*:?\"\n",
    "rtPattern2 = \"(\\bRT\\b|\\brt\\b|\\bMT\\b|\\bmt\\b|\\bRP\\b|\\brp\\b)\"\n",
    "rtPattern3 = \"(@\\w*:)\"\n",
    "rtPattern4 = \"(#rt|#RT|#mt|#MT|#rp|#retweet|#Retweet|#modifiedtweet|#modifiedTweet|#ModifiedTweet|#repost|#Repost)\"\n",
    "rtPattern5 = \"(via @\\w*)\"\n",
    "\n",
    "retweets = df_train['tweetText'].str.contains(rtPattern1)\n",
    "df_train = df_train[~retweets]\n",
    "\n",
    "retweets = df_train['tweetText'].str.contains(rtPattern2)\n",
    "df_train = df_train[~retweets]\n",
    "\n",
    "retweets = df_train['tweetText'].str.contains(rtPattern3)\n",
    "df_train = df_train[~retweets]\n",
    "\n",
    "retweets = df_train['tweetText'].str.contains(rtPattern4)\n",
    "df_train = df_train[~retweets]\n",
    "\n",
    "retweets = df_train['tweetText'].str.contains(rtPattern5)\n",
    "df_train = df_train[~retweets]\n",
    "\n",
    "df_train.reset_index(drop=True, inplace=True)\n",
    "df_train.shape"
   ]
  },
  {
   "cell_type": "code",
   "execution_count": 16,
   "metadata": {},
   "outputs": [],
   "source": [
    "#Removing remaining twitter handles @username\n",
    "df_train['tweetText'] = df_train['tweetText'].apply(lambda text: re.sub(r'@\\w*', \"\", text))"
   ]
  },
  {
   "cell_type": "code",
   "execution_count": 17,
   "metadata": {},
   "outputs": [],
   "source": [
    "#Removing emojis\n",
    "emojis = re.compile(\"[\"\n",
    "                    u\"\\U0001F600-\\U0001F64F\"\n",
    "                    u\"\\U0001F300-\\U0001F5FF\"\n",
    "                    u\"\\U0001F680-\\U0001F6FF\"\n",
    "                    u\"\\U0001F1E0-\\U0001F1FF\"\n",
    "                    u\"\\U00002702-\\U000027B0\"\n",
    "                    u\"\\U000024C2-\\U0001F251\"\n",
    "                    \"]+\", flags=re.UNICODE)\n",
    "\n",
    "df_train['tweetText'] = df_train['tweetText'].apply(lambda text: emojis.sub(r'', text) if emojis.search(text) else text)"
   ]
  },
  {
   "cell_type": "code",
   "execution_count": 18,
   "metadata": {},
   "outputs": [],
   "source": [
    "#Cleaning symbols - ampersand and newline\n",
    "df_train['tweetText'] = df_train['tweetText'].apply(lambda text: re.sub(r'&amp;|\\\\n', '', text))"
   ]
  },
  {
   "cell_type": "code",
   "execution_count": 19,
   "metadata": {},
   "outputs": [],
   "source": [
    "#Removing urls\n",
    "df_train['tweetText'] = df_train['tweetText'].apply(lambda text: re.sub(r'http\\S+', '', text))\n",
    "df_train['tweetText'] = df_train['tweetText'].apply(lambda text: re.sub(r'\\\\\\/\\S+', '', text))"
   ]
  },
  {
   "cell_type": "code",
   "execution_count": 20,
   "metadata": {
    "scrolled": true
   },
   "outputs": [],
   "source": [
    "#NOT USED\n",
    "#Translating to English\n",
    "\n",
    "# i = 0\n",
    "# for tweet in df_train['tweetText']:\n",
    "#     try:\n",
    "#         lan = detect(tweet)\n",
    "#     except:\n",
    "#         continue\n",
    "#     if lan != 'en':\n",
    "#         tr = Translator()\n",
    "#         trText = tr.translate(tweet).text\n",
    "#         print(trText)\n",
    "#         #TODO replace cell value to translation\n",
    "#     i = i + 1"
   ]
  },
  {
   "cell_type": "code",
   "execution_count": 21,
   "metadata": {},
   "outputs": [],
   "source": [
    "#Removing whitespace\n",
    "df_train['tweetText'] = df_train['tweetText'].apply(lambda text: \" \".join(text.split()))"
   ]
  },
  {
   "cell_type": "code",
   "execution_count": 22,
   "metadata": {},
   "outputs": [],
   "source": [
    "#Initialise stopwords\n",
    "stopwords = nltk.corpus.stopwords.words()\n",
    "stopwords.extend([':', ';', '[', ']', '\"', \"'\", '(', ')', '.', '?', '#', '@', '...'])"
   ]
  },
  {
   "cell_type": "code",
   "execution_count": 23,
   "metadata": {},
   "outputs": [],
   "source": [
    "#Removing stopwords\n",
    "df_train['filteredTweet'] = df_train['tweetText'].apply(lambda x: ' '.join([w for w in x.split() if w not in stopwords]))"
   ]
  },
  {
   "cell_type": "code",
   "execution_count": 24,
   "metadata": {
    "scrolled": false
   },
   "outputs": [
    {
     "data": {
      "text/html": [
       "<div>\n",
       "<style scoped>\n",
       "    .dataframe tbody tr th:only-of-type {\n",
       "        vertical-align: middle;\n",
       "    }\n",
       "\n",
       "    .dataframe tbody tr th {\n",
       "        vertical-align: top;\n",
       "    }\n",
       "\n",
       "    .dataframe thead th {\n",
       "        text-align: right;\n",
       "    }\n",
       "</style>\n",
       "<table border=\"1\" class=\"dataframe\">\n",
       "  <thead>\n",
       "    <tr style=\"text-align: right;\">\n",
       "      <th></th>\n",
       "      <th>tweetId</th>\n",
       "      <th>tweetText</th>\n",
       "      <th>userId</th>\n",
       "      <th>imgs</th>\n",
       "      <th>username</th>\n",
       "      <th>timestamp</th>\n",
       "      <th>label</th>\n",
       "      <th>filteredTweet</th>\n",
       "      <th>lemmatisedTweet</th>\n",
       "    </tr>\n",
       "  </thead>\n",
       "  <tbody>\n",
       "    <tr>\n",
       "      <th>0</th>\n",
       "      <td>263046056240115712</td>\n",
       "      <td>¿Se acuerdan de la película: “El día después d...</td>\n",
       "      <td>21226711</td>\n",
       "      <td>sandyA_fake_46</td>\n",
       "      <td>iAnnieM</td>\n",
       "      <td>Mon Oct 29 22:34:01 +0000 2012</td>\n",
       "      <td>fake</td>\n",
       "      <td>¿Se acuerdan película: “El día después mañana”...</td>\n",
       "      <td>¿Se acuerdan película: “El día después mañana”...</td>\n",
       "    </tr>\n",
       "    <tr>\n",
       "      <th>1</th>\n",
       "      <td>262979898002534400</td>\n",
       "      <td>Buena la foto del Huracán Sandy, me recuerda a...</td>\n",
       "      <td>132303095</td>\n",
       "      <td>sandyA_fake_09</td>\n",
       "      <td>LucasPalape</td>\n",
       "      <td>Mon Oct 29 18:11:08 +0000 2012</td>\n",
       "      <td>fake</td>\n",
       "      <td>Buena foto Huracán Sandy, recuerda película Dí...</td>\n",
       "      <td>Buena foto Huracán Sandy, recuerda película Dí...</td>\n",
       "    </tr>\n",
       "    <tr>\n",
       "      <th>2</th>\n",
       "      <td>262996108400271360</td>\n",
       "      <td>Scary shit #hurricane #NY</td>\n",
       "      <td>241995902</td>\n",
       "      <td>sandyA_fake_29</td>\n",
       "      <td>Haaaaarryyy</td>\n",
       "      <td>Mon Oct 29 19:15:33 +0000 2012</td>\n",
       "      <td>fake</td>\n",
       "      <td>Scary shit #hurricane #NY</td>\n",
       "      <td>Scary shit #hurricane #NY</td>\n",
       "    </tr>\n",
       "    <tr>\n",
       "      <th>3</th>\n",
       "      <td>263018881839411200</td>\n",
       "      <td>My fave place in the world #nyc #hurricane #sa...</td>\n",
       "      <td>250315890</td>\n",
       "      <td>sandyA_fake_15</td>\n",
       "      <td>princess__natt</td>\n",
       "      <td>Mon Oct 29 20:46:02 +0000 2012</td>\n",
       "      <td>fake</td>\n",
       "      <td>My fave place world #nyc #hurricane #sandy #st...</td>\n",
       "      <td>My fave place world #nyc #hurricane #sandy #st...</td>\n",
       "    </tr>\n",
       "    <tr>\n",
       "      <th>4</th>\n",
       "      <td>263364439582060545</td>\n",
       "      <td>42nd #time #square #NYC #subway #hurricane</td>\n",
       "      <td>163674788</td>\n",
       "      <td>sandyA_fake_23</td>\n",
       "      <td>classycg</td>\n",
       "      <td>Tue Oct 30 19:39:10 +0000 2012</td>\n",
       "      <td>fake</td>\n",
       "      <td>42nd #time #square #NYC #subway #hurricane</td>\n",
       "      <td>42nd #time #square #NYC #subway #hurricane</td>\n",
       "    </tr>\n",
       "    <tr>\n",
       "      <th>5</th>\n",
       "      <td>262927032705490944</td>\n",
       "      <td>Just in time for #halloween a photo of #hurric...</td>\n",
       "      <td>246153081</td>\n",
       "      <td>sandyA_fake_14</td>\n",
       "      <td>j_unit87</td>\n",
       "      <td>Mon Oct 29 14:41:04 +0000 2012</td>\n",
       "      <td>fake</td>\n",
       "      <td>Just time #halloween photo #hurricane #sandy #...</td>\n",
       "      <td>Just time #halloween photo #hurricane #sandy #...</td>\n",
       "    </tr>\n",
       "    <tr>\n",
       "      <th>6</th>\n",
       "      <td>263321078884077568</td>\n",
       "      <td>Crazy pic of #Hurricane #Sandy prayers go out ...</td>\n",
       "      <td>199565482</td>\n",
       "      <td>sandyA_fake_29</td>\n",
       "      <td>MrBlakMagik</td>\n",
       "      <td>Tue Oct 30 16:46:52 +0000 2012</td>\n",
       "      <td>fake</td>\n",
       "      <td>Crazy #Hurricane #Sandy prayers go family frie...</td>\n",
       "      <td>Crazy #Hurricane #Sandy prayer go family frien...</td>\n",
       "    </tr>\n",
       "    <tr>\n",
       "      <th>7</th>\n",
       "      <td>263111677485142017</td>\n",
       "      <td>#sandy #newyork #hurricane #statueofliberty #USA</td>\n",
       "      <td>78475739</td>\n",
       "      <td>sandyA_fake_15</td>\n",
       "      <td>safi37</td>\n",
       "      <td>Tue Oct 30 02:54:46 +0000 2012</td>\n",
       "      <td>fake</td>\n",
       "      <td>#sandy #newyork #hurricane #statueofliberty #USA</td>\n",
       "      <td>#sandy #newyork #hurricane #statueofliberty #USA</td>\n",
       "    </tr>\n",
       "    <tr>\n",
       "      <th>8</th>\n",
       "      <td>262977091983785985</td>\n",
       "      <td>#nyc #hurricane</td>\n",
       "      <td>869777653</td>\n",
       "      <td>sandyA_fake_29</td>\n",
       "      <td>kingmichael03</td>\n",
       "      <td>Mon Oct 29 17:59:59 +0000 2012</td>\n",
       "      <td>fake</td>\n",
       "      <td>#nyc #hurricane</td>\n",
       "      <td>#nyc #hurricane</td>\n",
       "    </tr>\n",
       "    <tr>\n",
       "      <th>9</th>\n",
       "      <td>262989009930833920</td>\n",
       "      <td>robertosalibaba god be with u brother #sandy #...</td>\n",
       "      <td>359592461</td>\n",
       "      <td>sandyA_fake_08</td>\n",
       "      <td>Michael_Saliba</td>\n",
       "      <td>Mon Oct 29 18:47:20 +0000 2012</td>\n",
       "      <td>fake</td>\n",
       "      <td>robertosalibaba god brother #sandy #hurricane ...</td>\n",
       "      <td>robertosalibaba god brother #sandy #hurricane ...</td>\n",
       "    </tr>\n",
       "  </tbody>\n",
       "</table>\n",
       "</div>"
      ],
      "text/plain": [
       "              tweetId                                          tweetText  \\\n",
       "0  263046056240115712  ¿Se acuerdan de la película: “El día después d...   \n",
       "1  262979898002534400  Buena la foto del Huracán Sandy, me recuerda a...   \n",
       "2  262996108400271360                          Scary shit #hurricane #NY   \n",
       "3  263018881839411200  My fave place in the world #nyc #hurricane #sa...   \n",
       "4  263364439582060545         42nd #time #square #NYC #subway #hurricane   \n",
       "5  262927032705490944  Just in time for #halloween a photo of #hurric...   \n",
       "6  263321078884077568  Crazy pic of #Hurricane #Sandy prayers go out ...   \n",
       "7  263111677485142017   #sandy #newyork #hurricane #statueofliberty #USA   \n",
       "8  262977091983785985                                    #nyc #hurricane   \n",
       "9  262989009930833920  robertosalibaba god be with u brother #sandy #...   \n",
       "\n",
       "      userId            imgs        username                       timestamp  \\\n",
       "0   21226711  sandyA_fake_46         iAnnieM  Mon Oct 29 22:34:01 +0000 2012   \n",
       "1  132303095  sandyA_fake_09     LucasPalape  Mon Oct 29 18:11:08 +0000 2012   \n",
       "2  241995902  sandyA_fake_29     Haaaaarryyy  Mon Oct 29 19:15:33 +0000 2012   \n",
       "3  250315890  sandyA_fake_15  princess__natt  Mon Oct 29 20:46:02 +0000 2012   \n",
       "4  163674788  sandyA_fake_23        classycg  Tue Oct 30 19:39:10 +0000 2012   \n",
       "5  246153081  sandyA_fake_14        j_unit87  Mon Oct 29 14:41:04 +0000 2012   \n",
       "6  199565482  sandyA_fake_29     MrBlakMagik  Tue Oct 30 16:46:52 +0000 2012   \n",
       "7   78475739  sandyA_fake_15          safi37  Tue Oct 30 02:54:46 +0000 2012   \n",
       "8  869777653  sandyA_fake_29   kingmichael03  Mon Oct 29 17:59:59 +0000 2012   \n",
       "9  359592461  sandyA_fake_08  Michael_Saliba  Mon Oct 29 18:47:20 +0000 2012   \n",
       "\n",
       "  label                                      filteredTweet  \\\n",
       "0  fake  ¿Se acuerdan película: “El día después mañana”...   \n",
       "1  fake  Buena foto Huracán Sandy, recuerda película Dí...   \n",
       "2  fake                          Scary shit #hurricane #NY   \n",
       "3  fake  My fave place world #nyc #hurricane #sandy #st...   \n",
       "4  fake         42nd #time #square #NYC #subway #hurricane   \n",
       "5  fake  Just time #halloween photo #hurricane #sandy #...   \n",
       "6  fake  Crazy #Hurricane #Sandy prayers go family frie...   \n",
       "7  fake   #sandy #newyork #hurricane #statueofliberty #USA   \n",
       "8  fake                                    #nyc #hurricane   \n",
       "9  fake  robertosalibaba god brother #sandy #hurricane ...   \n",
       "\n",
       "                                     lemmatisedTweet  \n",
       "0  ¿Se acuerdan película: “El día después mañana”...  \n",
       "1  Buena foto Huracán Sandy, recuerda película Dí...  \n",
       "2                          Scary shit #hurricane #NY  \n",
       "3  My fave place world #nyc #hurricane #sandy #st...  \n",
       "4         42nd #time #square #NYC #subway #hurricane  \n",
       "5  Just time #halloween photo #hurricane #sandy #...  \n",
       "6  Crazy #Hurricane #Sandy prayer go family frien...  \n",
       "7   #sandy #newyork #hurricane #statueofliberty #USA  \n",
       "8                                    #nyc #hurricane  \n",
       "9  robertosalibaba god brother #sandy #hurricane ...  "
      ]
     },
     "execution_count": 24,
     "metadata": {},
     "output_type": "execute_result"
    }
   ],
   "source": [
    "#Lemmatising\n",
    "tokeniser = nltk.tokenize.WhitespaceTokenizer()\n",
    "lemmatiser = nltk.stem.WordNetLemmatizer()\n",
    "\n",
    "df_train['lemmatisedTweet'] = df_train['filteredTweet'].apply(lambda x: ' '.join([lemmatiser.lemmatize(w) for w in tokeniser.tokenize(x)]))\n",
    "df_train.head(10)"
   ]
  },
  {
   "cell_type": "markdown",
   "metadata": {},
   "source": [
    "# Algorithm Design and Training"
   ]
  },
  {
   "cell_type": "code",
   "execution_count": 25,
   "metadata": {},
   "outputs": [
    {
     "name": "stderr",
     "output_type": "stream",
     "text": [
      "D:\\Anaconda\\lib\\site-packages\\gensim\\similarities\\__init__.py:15: UserWarning: The gensim.similarities.levenshtein submodule is disabled, because the optional Levenshtein package <https://pypi.org/project/python-Levenshtein/> is unavailable. Install Levenhstein (e.g. `pip install python-Levenshtein`) to suppress this warning.\n",
      "  warnings.warn(msg)\n"
     ]
    }
   ],
   "source": [
    "from sklearn.feature_extraction.text import CountVectorizer, TfidfVectorizer\n",
    "from sklearn.linear_model import PassiveAggressiveClassifier, SGDClassifier\n",
    "from sklearn.naive_bayes import MultinomialNB, BernoulliNB\n",
    "from sklearn import metrics\n",
    "from gensim.test.utils import common_texts\n",
    "from gensim.models import Word2Vec\n",
    "from sklearn.gaussian_process import GaussianProcessClassifier\n",
    "from sklearn.naive_bayes import GaussianNB\n",
    "# from sklearn.discriminant_analysis import QuadraticDiscriminantAnalysis\n",
    "from sklearn.ensemble import RandomForestClassifier, AdaBoostClassifier\n",
    "from sklearn.svm import SVC\n",
    "import numpy as np"
   ]
  },
  {
   "cell_type": "code",
   "execution_count": 26,
   "metadata": {},
   "outputs": [],
   "source": [
    "def plot_confusion_matrix(cm,\n",
    "                          target_names,\n",
    "                          title='Confusion matrix',\n",
    "                          cmap=None,\n",
    "                          normalize=True):\n",
    "    \"\"\"\n",
    "    given a sklearn confusion matrix (cm), make a nice plot\n",
    "\n",
    "    Arguments\n",
    "    ---------\n",
    "    cm:           confusion matrix from sklearn.metrics.confusion_matrix\n",
    "\n",
    "    target_names: given classification classes such as [0, 1, 2]\n",
    "                  the class names, for example: ['high', 'medium', 'low']\n",
    "\n",
    "    title:        the text to display at the top of the matrix\n",
    "\n",
    "    cmap:         the gradient of the values displayed from matplotlib.pyplot.cm\n",
    "                  see http://matplotlib.org/examples/color/colormaps_reference.html\n",
    "                  plt.get_cmap('jet') or plt.cm.Blues\n",
    "\n",
    "    normalize:    If False, plot the raw numbers\n",
    "                  If True, plot the proportions\n",
    "\n",
    "    Usage\n",
    "    -----\n",
    "    plot_confusion_matrix(cm           = cm,                  # confusion matrix created by\n",
    "                                                              # sklearn.metrics.confusion_matrix\n",
    "                          normalize    = True,                # show proportions\n",
    "                          target_names = y_labels_vals,       # list of names of the classes\n",
    "                          title        = best_estimator_name) # title of graph\n",
    "\n",
    "    Citiation\n",
    "    ---------\n",
    "    http://scikit-learn.org/stable/auto_examples/model_selection/plot_confusion_matrix.html\n",
    "\n",
    "    \"\"\"\n",
    "    import matplotlib.pyplot as plt\n",
    "    import numpy as np\n",
    "    import itertools\n",
    "\n",
    "    accuracy = np.trace(cm) / float(np.sum(cm))\n",
    "    misclass = 1 - accuracy\n",
    "\n",
    "    if cmap is None:\n",
    "        cmap = plt.get_cmap('Blues')\n",
    "\n",
    "    plt.figure(figsize=(8, 6))\n",
    "    plt.imshow(cm, interpolation='nearest', cmap=cmap)\n",
    "    plt.title(title)\n",
    "    plt.colorbar()\n",
    "\n",
    "    if target_names is not None:\n",
    "        tick_marks = np.arange(len(target_names))\n",
    "        plt.xticks(tick_marks, target_names, rotation=45)\n",
    "        plt.yticks(tick_marks, target_names)\n",
    "\n",
    "    if normalize:\n",
    "        cm = cm.astype('float') / cm.sum(axis=1)[:, np.newaxis]\n",
    "\n",
    "\n",
    "    thresh = cm.max() / 1.5 if normalize else cm.max() / 2\n",
    "    for i, j in itertools.product(range(cm.shape[0]), range(cm.shape[1])):\n",
    "        if normalize:\n",
    "            plt.text(j, i, \"{:0.4f}\".format(cm[i, j]),\n",
    "                     horizontalalignment=\"center\",\n",
    "                     color=\"white\" if cm[i, j] > thresh else \"black\")\n",
    "        else:\n",
    "            plt.text(j, i, \"{:,}\".format(cm[i, j]),\n",
    "                     horizontalalignment=\"center\",\n",
    "                     color=\"white\" if cm[i, j] > thresh else \"black\")\n",
    "\n",
    "\n",
    "    plt.tight_layout()\n",
    "    plt.ylabel('Actual label')\n",
    "    plt.xlabel('Predicted label\\naccuracy={:0.3f}; misclass={:0.3f}'.format(accuracy, misclass))\n",
    "    plt.show()"
   ]
  },
  {
   "cell_type": "code",
   "execution_count": 27,
   "metadata": {},
   "outputs": [
    {
     "data": {
      "text/plain": [
       "label\n",
       "real    3651\n",
       "dtype: int64"
      ]
     },
     "execution_count": 27,
     "metadata": {},
     "output_type": "execute_result"
    }
   ],
   "source": [
    "Train_real_size = df_train[df_train.label=='real'].groupby(['label']) .size()\n",
    "Train_real_size"
   ]
  },
  {
   "cell_type": "code",
   "execution_count": 28,
   "metadata": {},
   "outputs": [
    {
     "data": {
      "text/plain": [
       "label\n",
       "fake    7899\n",
       "dtype: int64"
      ]
     },
     "execution_count": 28,
     "metadata": {},
     "output_type": "execute_result"
    }
   ],
   "source": [
    "Train_fake_size = df_train[df_train.label=='fake'].groupby(['label']) .size()\n",
    "Train_fake_size"
   ]
  },
  {
   "cell_type": "code",
   "execution_count": 29,
   "metadata": {},
   "outputs": [
    {
     "data": {
      "text/html": [
       "<div>\n",
       "<style scoped>\n",
       "    .dataframe tbody tr th:only-of-type {\n",
       "        vertical-align: middle;\n",
       "    }\n",
       "\n",
       "    .dataframe tbody tr th {\n",
       "        vertical-align: top;\n",
       "    }\n",
       "\n",
       "    .dataframe thead th {\n",
       "        text-align: right;\n",
       "    }\n",
       "</style>\n",
       "<table border=\"1\" class=\"dataframe\">\n",
       "  <thead>\n",
       "    <tr style=\"text-align: right;\">\n",
       "      <th></th>\n",
       "      <th>tweetId</th>\n",
       "      <th>tweetText</th>\n",
       "      <th>userId</th>\n",
       "      <th>imgs</th>\n",
       "      <th>username</th>\n",
       "      <th>timestamp</th>\n",
       "      <th>label</th>\n",
       "      <th>filteredTweet</th>\n",
       "      <th>lemmatisedTweet</th>\n",
       "    </tr>\n",
       "  </thead>\n",
       "  <tbody>\n",
       "    <tr>\n",
       "      <th>3149</th>\n",
       "      <td>263108287241781248</td>\n",
       "      <td>Foto de tarms15 #hurricanesandy #blackout #NYC</td>\n",
       "      <td>89221442</td>\n",
       "      <td>sandyB_real_60</td>\n",
       "      <td>IzisFilipaldi</td>\n",
       "      <td>Tue Oct 30 02:41:18 +0000 2012</td>\n",
       "      <td>real</td>\n",
       "      <td>Foto tarms15 #hurricanesandy #blackout #NYC</td>\n",
       "      <td>Foto tarms15 #hurricanesandy #blackout #NYC</td>\n",
       "    </tr>\n",
       "    <tr>\n",
       "      <th>217</th>\n",
       "      <td>263069509181652995</td>\n",
       "      <td>Woaw Sandy is knocking down buildings in Chelsea</td>\n",
       "      <td>45081270</td>\n",
       "      <td>sandyA_real_09</td>\n",
       "      <td>styledevon</td>\n",
       "      <td>Tue Oct 30 00:07:13 +0000 2012</td>\n",
       "      <td>real</td>\n",
       "      <td>Woaw Sandy knocking buildings Chelsea</td>\n",
       "      <td>Woaw Sandy knocking building Chelsea</td>\n",
       "    </tr>\n",
       "    <tr>\n",
       "      <th>5748</th>\n",
       "      <td>264635320946024448</td>\n",
       "      <td>Has Sandy gone yet???</td>\n",
       "      <td>45793095</td>\n",
       "      <td>sandyA_fake_41</td>\n",
       "      <td>georginah23</td>\n",
       "      <td>Sat Nov 03 07:49:11 +0000 2012</td>\n",
       "      <td>fake</td>\n",
       "      <td>Has Sandy gone yet???</td>\n",
       "      <td>Has Sandy gone yet???</td>\n",
       "    </tr>\n",
       "    <tr>\n",
       "      <th>7297</th>\n",
       "      <td>264468524519526400</td>\n",
       "      <td>LMFAO!!! #Sandy</td>\n",
       "      <td>316093452</td>\n",
       "      <td>sandyA_fake_40</td>\n",
       "      <td>_IsOnMyMind</td>\n",
       "      <td>Fri Nov 02 20:46:24 +0000 2012</td>\n",
       "      <td>fake</td>\n",
       "      <td>LMFAO!!! #Sandy</td>\n",
       "      <td>LMFAO!!! #Sandy</td>\n",
       "    </tr>\n",
       "    <tr>\n",
       "      <th>5703</th>\n",
       "      <td>263818159662960640</td>\n",
       "      <td>The Tomb of the Unknown Soldier after the hurr...</td>\n",
       "      <td>495008057</td>\n",
       "      <td>sandyA_fake_03</td>\n",
       "      <td>Cardinals_ST</td>\n",
       "      <td>Thu Nov 01 01:42:05 +0000 2012</td>\n",
       "      <td>fake</td>\n",
       "      <td>The Tomb Unknown Soldier hurricane evacuation....</td>\n",
       "      <td>The Tomb Unknown Soldier hurricane evacuation....</td>\n",
       "    </tr>\n",
       "    <tr>\n",
       "      <th>...</th>\n",
       "      <td>...</td>\n",
       "      <td>...</td>\n",
       "      <td>...</td>\n",
       "      <td>...</td>\n",
       "      <td>...</td>\n",
       "      <td>...</td>\n",
       "      <td>...</td>\n",
       "      <td>...</td>\n",
       "      <td>...</td>\n",
       "    </tr>\n",
       "    <tr>\n",
       "      <th>4322</th>\n",
       "      <td>262976593327169536</td>\n",
       "      <td>Sandy charges New York - be safe #NYC #sandy</td>\n",
       "      <td>35555545</td>\n",
       "      <td>sandyA_fake_29</td>\n",
       "      <td>faysalzok</td>\n",
       "      <td>Mon Oct 29 17:58:00 +0000 2012</td>\n",
       "      <td>fake</td>\n",
       "      <td>Sandy charges New York - safe #NYC #sandy</td>\n",
       "      <td>Sandy charge New York - safe #NYC #sandy</td>\n",
       "    </tr>\n",
       "    <tr>\n",
       "      <th>3672</th>\n",
       "      <td>446424632074465281</td>\n",
       "      <td>Imagen de avión no identificado en Tailandia, ...</td>\n",
       "      <td>54259597</td>\n",
       "      <td>malaysia_fake_15</td>\n",
       "      <td>ObservadorUY</td>\n",
       "      <td>Wed Mar 19 23:15:01 +0000 2014</td>\n",
       "      <td>fake</td>\n",
       "      <td>Imagen avión identificado Tailandia, podría se...</td>\n",
       "      <td>Imagen avión identificado Tailandia, podría se...</td>\n",
       "    </tr>\n",
       "    <tr>\n",
       "      <th>5841</th>\n",
       "      <td>430419958833479680</td>\n",
       "      <td>This photo shows Russia may have a toilet prob...</td>\n",
       "      <td>2168324624</td>\n",
       "      <td>sochi_fake_16</td>\n",
       "      <td>TheGlasgowCurse</td>\n",
       "      <td>Mon Feb 03 19:18:09 +0000 2014</td>\n",
       "      <td>fake</td>\n",
       "      <td>This photo shows Russia may toilet problem Soc...</td>\n",
       "      <td>This photo show Russia may toilet problem Soch...</td>\n",
       "    </tr>\n",
       "    <tr>\n",
       "      <th>4920</th>\n",
       "      <td>325233605964070913</td>\n",
       "      <td>Reddit and 4chan's efforts to identify the Bos...</td>\n",
       "      <td>17153944</td>\n",
       "      <td>boston_fake_03,boston_fake_35</td>\n",
       "      <td>fraserferguson</td>\n",
       "      <td>Fri Apr 19 13:05:08 +0000 2013</td>\n",
       "      <td>fake</td>\n",
       "      <td>Reddit 4chan's efforts identify Boston bombers...</td>\n",
       "      <td>Reddit 4chan's effort identify Boston bombers....</td>\n",
       "    </tr>\n",
       "    <tr>\n",
       "      <th>491</th>\n",
       "      <td>263182859123179520</td>\n",
       "      <td>Sandy</td>\n",
       "      <td>237292535</td>\n",
       "      <td>sandyA_real_33</td>\n",
       "      <td>Ana_Glez_Tre</td>\n",
       "      <td>Tue Oct 30 07:37:37 +0000 2012</td>\n",
       "      <td>real</td>\n",
       "      <td>Sandy</td>\n",
       "      <td>Sandy</td>\n",
       "    </tr>\n",
       "  </tbody>\n",
       "</table>\n",
       "<p>7302 rows × 9 columns</p>\n",
       "</div>"
      ],
      "text/plain": [
       "                 tweetId                                          tweetText  \\\n",
       "3149  263108287241781248     Foto de tarms15 #hurricanesandy #blackout #NYC   \n",
       "217   263069509181652995   Woaw Sandy is knocking down buildings in Chelsea   \n",
       "5748  264635320946024448                              Has Sandy gone yet???   \n",
       "7297  264468524519526400                                    LMFAO!!! #Sandy   \n",
       "5703  263818159662960640  The Tomb of the Unknown Soldier after the hurr...   \n",
       "...                  ...                                                ...   \n",
       "4322  262976593327169536       Sandy charges New York - be safe #NYC #sandy   \n",
       "3672  446424632074465281  Imagen de avión no identificado en Tailandia, ...   \n",
       "5841  430419958833479680  This photo shows Russia may have a toilet prob...   \n",
       "4920  325233605964070913  Reddit and 4chan's efforts to identify the Bos...   \n",
       "491   263182859123179520                                              Sandy   \n",
       "\n",
       "          userId                           imgs         username  \\\n",
       "3149    89221442                 sandyB_real_60    IzisFilipaldi   \n",
       "217     45081270                 sandyA_real_09       styledevon   \n",
       "5748    45793095                 sandyA_fake_41      georginah23   \n",
       "7297   316093452                 sandyA_fake_40      _IsOnMyMind   \n",
       "5703   495008057                 sandyA_fake_03     Cardinals_ST   \n",
       "...          ...                            ...              ...   \n",
       "4322    35555545                 sandyA_fake_29        faysalzok   \n",
       "3672    54259597               malaysia_fake_15     ObservadorUY   \n",
       "5841  2168324624                  sochi_fake_16  TheGlasgowCurse   \n",
       "4920    17153944  boston_fake_03,boston_fake_35   fraserferguson   \n",
       "491    237292535                 sandyA_real_33     Ana_Glez_Tre   \n",
       "\n",
       "                           timestamp label  \\\n",
       "3149  Tue Oct 30 02:41:18 +0000 2012  real   \n",
       "217   Tue Oct 30 00:07:13 +0000 2012  real   \n",
       "5748  Sat Nov 03 07:49:11 +0000 2012  fake   \n",
       "7297  Fri Nov 02 20:46:24 +0000 2012  fake   \n",
       "5703  Thu Nov 01 01:42:05 +0000 2012  fake   \n",
       "...                              ...   ...   \n",
       "4322  Mon Oct 29 17:58:00 +0000 2012  fake   \n",
       "3672  Wed Mar 19 23:15:01 +0000 2014  fake   \n",
       "5841  Mon Feb 03 19:18:09 +0000 2014  fake   \n",
       "4920  Fri Apr 19 13:05:08 +0000 2013  fake   \n",
       "491   Tue Oct 30 07:37:37 +0000 2012  real   \n",
       "\n",
       "                                          filteredTweet  \\\n",
       "3149        Foto tarms15 #hurricanesandy #blackout #NYC   \n",
       "217               Woaw Sandy knocking buildings Chelsea   \n",
       "5748                              Has Sandy gone yet???   \n",
       "7297                                    LMFAO!!! #Sandy   \n",
       "5703  The Tomb Unknown Soldier hurricane evacuation....   \n",
       "...                                                 ...   \n",
       "4322          Sandy charges New York - safe #NYC #sandy   \n",
       "3672  Imagen avión identificado Tailandia, podría se...   \n",
       "5841  This photo shows Russia may toilet problem Soc...   \n",
       "4920  Reddit 4chan's efforts identify Boston bombers...   \n",
       "491                                               Sandy   \n",
       "\n",
       "                                        lemmatisedTweet  \n",
       "3149        Foto tarms15 #hurricanesandy #blackout #NYC  \n",
       "217                Woaw Sandy knocking building Chelsea  \n",
       "5748                              Has Sandy gone yet???  \n",
       "7297                                    LMFAO!!! #Sandy  \n",
       "5703  The Tomb Unknown Soldier hurricane evacuation....  \n",
       "...                                                 ...  \n",
       "4322           Sandy charge New York - safe #NYC #sandy  \n",
       "3672  Imagen avión identificado Tailandia, podría se...  \n",
       "5841  This photo show Russia may toilet problem Soch...  \n",
       "4920  Reddit 4chan's effort identify Boston bombers....  \n",
       "491                                               Sandy  \n",
       "\n",
       "[7302 rows x 9 columns]"
      ]
     },
     "execution_count": 29,
     "metadata": {},
     "output_type": "execute_result"
    }
   ],
   "source": [
    "train_fake = df_train[df_train['label']=='fake'].sample(n=len(df_train[df_train['label']=='real']) , random_state=1234)\n",
    "train_real = df_train[df_train['label']=='real']\n",
    "train_total = pandas.concat([train_real, train_fake], ignore_index=True)\n",
    "train_total = train_total.sample(frac = 1)\n",
    "train_total"
   ]
  },
  {
   "cell_type": "code",
   "execution_count": 30,
   "metadata": {},
   "outputs": [],
   "source": [
    "#Define features and target for training and testing\n",
    "# tar_train = df_train.label\n",
    "# ft_train = df_train.lemmatisedTweet\n",
    "# tar_test = df_test.label\n",
    "# ft_test = df_test.tweetText\n",
    "\n",
    "tar_train = train_total.label\n",
    "ft_train = train_total.lemmatisedTweet\n",
    "tar_test = df_test.label\n",
    "ft_test = df_test.tweetText"
   ]
  },
  {
   "cell_type": "code",
   "execution_count": 31,
   "metadata": {},
   "outputs": [],
   "source": [
    "#Init Bag-of-Words\n",
    "count_vectoriser = CountVectorizer(stop_words='english')\n",
    "count_train = count_vectoriser.fit_transform(ft_train)\n",
    "count_test = count_vectoriser.transform(ft_test)"
   ]
  },
  {
   "cell_type": "code",
   "execution_count": 32,
   "metadata": {},
   "outputs": [],
   "source": [
    "#Init N-Gram\n",
    "ngram_vectoriser = CountVectorizer(analyzer='char_wb', ngram_range=(2, 2))\n",
    "ngram_train = ngram_vectoriser.fit_transform(ft_train)\n",
    "ngram_test = ngram_vectoriser.transform(ft_test)"
   ]
  },
  {
   "cell_type": "code",
   "execution_count": 33,
   "metadata": {},
   "outputs": [],
   "source": [
    "#Init TF-IDF\n",
    "tfidf_vectoriser = TfidfVectorizer(stop_words='english', max_df=0.2)\n",
    "tfidf_train = tfidf_vectoriser.fit_transform(ft_train)\n",
    "tfidf_test = tfidf_vectoriser.transform(ft_test)"
   ]
  },
  {
   "cell_type": "code",
   "execution_count": 34,
   "metadata": {},
   "outputs": [],
   "source": [
    "clf = MultinomialNB()"
   ]
  },
  {
   "cell_type": "code",
   "execution_count": 35,
   "metadata": {},
   "outputs": [],
   "source": [
    "clf = BernoulliNB()"
   ]
  },
  {
   "cell_type": "code",
   "execution_count": 36,
   "metadata": {},
   "outputs": [],
   "source": [
    "clf = PassiveAggressiveClassifier()"
   ]
  },
  {
   "cell_type": "code",
   "execution_count": 37,
   "metadata": {},
   "outputs": [],
   "source": [
    "clf = SGDClassifier()"
   ]
  },
  {
   "cell_type": "code",
   "execution_count": 38,
   "metadata": {},
   "outputs": [],
   "source": [
    "clf = SVC()"
   ]
  },
  {
   "cell_type": "code",
   "execution_count": 39,
   "metadata": {},
   "outputs": [],
   "source": [
    "clf =  AdaBoostClassifier()"
   ]
  },
  {
   "cell_type": "code",
   "execution_count": 40,
   "metadata": {},
   "outputs": [],
   "source": [
    "#clf =  QuadraticDiscriminantAnalysis()"
   ]
  },
  {
   "cell_type": "code",
   "execution_count": 41,
   "metadata": {},
   "outputs": [
    {
     "name": "stdout",
     "output_type": "stream",
     "text": [
      "accuracy:   0.226\n"
     ]
    }
   ],
   "source": [
    "#N-Grams\n",
    "clf.fit(ngram_train, tar_train)\n",
    "\n",
    "pred = clf.predict(ngram_test)\n",
    "score = metrics.accuracy_score(tar_test, pred)\n",
    "\n",
    "print(\"accuracy:   %0.3f\" % score)"
   ]
  },
  {
   "cell_type": "code",
   "execution_count": 42,
   "metadata": {
    "scrolled": true
   },
   "outputs": [
    {
     "name": "stdout",
     "output_type": "stream",
     "text": [
      "TP: 670 FP: 1032 TN: 177 FN: 1876\n",
      "f1: 0.315\n"
     ]
    }
   ],
   "source": [
    "#Calculating F1 score\n",
    "TP = 0 \n",
    "FP = 0\n",
    "TN = 0\n",
    "FN = 0\n",
    "\n",
    "for true, guess in zip(tar_test, pred):\n",
    "    if(true == 'fake' and guess == 'fake'):\n",
    "        TP = TP + 1\n",
    "    if(true == 'real' and guess == 'fake'):\n",
    "        FP = FP + 1\n",
    "    if(true == 'real' and guess == 'real'):\n",
    "        TN = TN + 1\n",
    "    if(true == 'fake' and guess == 'real'):\n",
    "        FN = FN + 1\n",
    "        \n",
    "precision = TP / (TP + FP)\n",
    "recall = TP / (TP + FN)\n",
    "\n",
    "f1 = 2 * ((precision * recall) / (precision + recall))\n",
    "print(\"TP: %d FP: %d TN: %d FN: %d\" % (TP, FP, TN, FN))\n",
    "print(\"f1: %0.3f\" % f1)"
   ]
  },
  {
   "cell_type": "code",
   "execution_count": 43,
   "metadata": {},
   "outputs": [
    {
     "data": {
      "image/png": "[encoded data removed]",
      "text/plain": [
       "<Figure size 576x432 with 2 Axes>"
      ]
     },
     "metadata": {
      "needs_background": "light"
     },
     "output_type": "display_data"
    }
   ],
   "source": [
    "plot_confusion_matrix(cm      = np.array([[TP ,FN ],[ FP, TN ]]), \n",
    "                      normalize    = False,\n",
    "                      target_names = ['true', 'false'],\n",
    "                      title        = \"Confusion Matrix\")\n",
    "\n",
    "#np.array([[TP,FN ],[ FP, TN]]), "
   ]
  },
  {
   "cell_type": "code",
   "execution_count": 44,
   "metadata": {},
   "outputs": [
    {
     "name": "stdout",
     "output_type": "stream",
     "text": [
      "accuracy:   0.622\n"
     ]
    }
   ],
   "source": [
    "#Bag-of-Words\n",
    "clf.fit(count_train, tar_train)\n",
    "\n",
    "pred = clf.predict(count_test)\n",
    "score = metrics.accuracy_score(tar_test, pred)\n",
    "\n",
    "print(\"accuracy:   %0.3f\" % score)"
   ]
  },
  {
   "cell_type": "code",
   "execution_count": 45,
   "metadata": {},
   "outputs": [
    {
     "name": "stdout",
     "output_type": "stream",
     "text": [
      "accuracy:   0.674\n"
     ]
    }
   ],
   "source": [
    "#TF-IDF\n",
    "clf.fit(tfidf_train, tar_train)\n",
    "\n",
    "pred = clf.predict(tfidf_test)\n",
    "score = metrics.accuracy_score(tar_test, pred)\n",
    "\n",
    "print(\"accuracy:   %0.3f\" % score)"
   ]
  },
  {
   "cell_type": "code",
   "execution_count": null,
   "metadata": {},
   "outputs": [],
   "source": []
  }
 ],
 "metadata": {
  "kernelspec": {
   "display_name": "Python 3",
   "language": "python",
   "name": "python3"
  },
  "language_info": {
   "codemirror_mode": {
    "name": "ipython",
    "version": 3
   },
   "file_extension": ".py",
   "mimetype": "text/x-python",
   "name": "python",
   "nbconvert_exporter": "python",
   "pygments_lexer": "ipython3",
   "version": "3.8.8"
  }
 },
 "nbformat": 4,
 "nbformat_minor": 2
}
