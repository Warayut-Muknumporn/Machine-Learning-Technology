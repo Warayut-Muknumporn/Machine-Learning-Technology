{
 "cells": [
  {
   "cell_type": "code",
   "execution_count": 1,
   "id": "0e092c1e",
   "metadata": {},
   "outputs": [],
   "source": [
    "# Include this line in case the figures not show up in the web page\n",
    "%matplotlib inline \n",
    "import matplotlib.pyplot as plt\n",
    "import numpy as np\n",
    "import pandas as pd"
   ]
  },
  {
   "cell_type": "code",
   "execution_count": 2,
   "id": "4d9c1e44",
   "metadata": {},
   "outputs": [],
   "source": [
    "trainset = pd.read_csv(\"train.csv\")\n",
    "testset = pd.read_csv(\"testset.csv\")\n",
    "\n",
    "#Creating DataFrames for training and testing\n",
    "df_train = pd.DataFrame(data = trainset)\n",
    "df_test = pd.DataFrame(data = testset)"
   ]
  },
  {
   "cell_type": "code",
   "execution_count": 3,
   "id": "d59aac50",
   "metadata": {},
   "outputs": [
    {
     "data": {
      "text/html": [
       "<div>\n",
       "<style scoped>\n",
       "    .dataframe tbody tr th:only-of-type {\n",
       "        vertical-align: middle;\n",
       "    }\n",
       "\n",
       "    .dataframe tbody tr th {\n",
       "        vertical-align: top;\n",
       "    }\n",
       "\n",
       "    .dataframe thead th {\n",
       "        text-align: right;\n",
       "    }\n",
       "</style>\n",
       "<table border=\"1\" class=\"dataframe\">\n",
       "  <thead>\n",
       "    <tr style=\"text-align: right;\">\n",
       "      <th></th>\n",
       "      <th>tweetId</th>\n",
       "      <th>tweetText</th>\n",
       "      <th>userId</th>\n",
       "      <th>imageId(s)</th>\n",
       "      <th>username</th>\n",
       "      <th>timestamp</th>\n",
       "      <th>label</th>\n",
       "    </tr>\n",
       "  </thead>\n",
       "  <tbody>\n",
       "    <tr>\n",
       "      <th>0</th>\n",
       "      <td>2.630000e+17</td>\n",
       "      <td>�Se acuerdan de la pel�cula: �El d�a despu�s d...</td>\n",
       "      <td>21226711.0</td>\n",
       "      <td>sandyA_fake_46</td>\n",
       "      <td>iAnnieM</td>\n",
       "      <td>Mon Oct 29 22:34:01 +0000 2012</td>\n",
       "      <td>fake</td>\n",
       "    </tr>\n",
       "    <tr>\n",
       "      <th>1</th>\n",
       "      <td>2.630000e+17</td>\n",
       "      <td>@milenagimon: Miren a Sandy en NY!  Tremenda i...</td>\n",
       "      <td>192378571.0</td>\n",
       "      <td>sandyA_fake_09</td>\n",
       "      <td>CarlosVerareal</td>\n",
       "      <td>Mon Oct 29 19:11:23 +0000 2012</td>\n",
       "      <td>fake</td>\n",
       "    </tr>\n",
       "    <tr>\n",
       "      <th>2</th>\n",
       "      <td>2.630000e+17</td>\n",
       "      <td>Buena la foto del Hurac�n Sandy, me recuerda a...</td>\n",
       "      <td>132303095.0</td>\n",
       "      <td>sandyA_fake_09</td>\n",
       "      <td>LucasPalape</td>\n",
       "      <td>Mon Oct 29 18:11:08 +0000 2012</td>\n",
       "      <td>fake</td>\n",
       "    </tr>\n",
       "    <tr>\n",
       "      <th>3</th>\n",
       "      <td>2.630000e+17</td>\n",
       "      <td>Scary shit #hurricane #NY http://t.co/e4JLBUfH</td>\n",
       "      <td>241995902.0</td>\n",
       "      <td>sandyA_fake_29</td>\n",
       "      <td>Haaaaarryyy</td>\n",
       "      <td>Mon Oct 29 19:15:33 +0000 2012</td>\n",
       "      <td>fake</td>\n",
       "    </tr>\n",
       "    <tr>\n",
       "      <th>4</th>\n",
       "      <td>2.630000e+17</td>\n",
       "      <td>My fave place in the world #nyc #hurricane #sa...</td>\n",
       "      <td>250315890.0</td>\n",
       "      <td>sandyA_fake_15</td>\n",
       "      <td>princess__natt</td>\n",
       "      <td>Mon Oct 29 20:46:02 +0000 2012</td>\n",
       "      <td>fake</td>\n",
       "    </tr>\n",
       "  </tbody>\n",
       "</table>\n",
       "</div>"
      ],
      "text/plain": [
       "        tweetId                                          tweetText  \\\n",
       "0  2.630000e+17  �Se acuerdan de la pel�cula: �El d�a despu�s d...   \n",
       "1  2.630000e+17  @milenagimon: Miren a Sandy en NY!  Tremenda i...   \n",
       "2  2.630000e+17  Buena la foto del Hurac�n Sandy, me recuerda a...   \n",
       "3  2.630000e+17     Scary shit #hurricane #NY http://t.co/e4JLBUfH   \n",
       "4  2.630000e+17  My fave place in the world #nyc #hurricane #sa...   \n",
       "\n",
       "        userId      imageId(s)        username  \\\n",
       "0   21226711.0  sandyA_fake_46         iAnnieM   \n",
       "1  192378571.0  sandyA_fake_09  CarlosVerareal   \n",
       "2  132303095.0  sandyA_fake_09     LucasPalape   \n",
       "3  241995902.0  sandyA_fake_29     Haaaaarryyy   \n",
       "4  250315890.0  sandyA_fake_15  princess__natt   \n",
       "\n",
       "                        timestamp label  \n",
       "0  Mon Oct 29 22:34:01 +0000 2012  fake  \n",
       "1  Mon Oct 29 19:11:23 +0000 2012  fake  \n",
       "2  Mon Oct 29 18:11:08 +0000 2012  fake  \n",
       "3  Mon Oct 29 19:15:33 +0000 2012  fake  \n",
       "4  Mon Oct 29 20:46:02 +0000 2012  fake  "
      ]
     },
     "execution_count": 3,
     "metadata": {},
     "output_type": "execute_result"
    }
   ],
   "source": [
    "trainset.head(5)"
   ]
  },
  {
   "cell_type": "code",
   "execution_count": 5,
   "id": "157f139f",
   "metadata": {},
   "outputs": [
    {
     "data": {
      "text/plain": [
       "sandyA_fake_29                   1115\n",
       "sandyA_fake_42                    721\n",
       "sandyA_fake_11                    635\n",
       "sandyB_real_59                    634\n",
       "sandyB_real_71                    584\n",
       "                                 ... \n",
       "columbianChemicals_fake_14          1\n",
       "boston_real_04,boston_real_24       1\n",
       "boston_fake_22                      1\n",
       "sandyB_real_89                      1\n",
       "malaysia_fake_17                    1\n",
       "Name: imageId(s), Length: 379, dtype: int64"
      ]
     },
     "execution_count": 5,
     "metadata": {},
     "output_type": "execute_result"
    }
   ],
   "source": [
    "df_train['imageId(s)'].value_counts()\n"
   ]
  },
  {
   "cell_type": "code",
   "execution_count": 6,
   "id": "15f59fac",
   "metadata": {},
   "outputs": [
    {
     "data": {
      "text/html": [
       "<div>\n",
       "<style scoped>\n",
       "    .dataframe tbody tr th:only-of-type {\n",
       "        vertical-align: middle;\n",
       "    }\n",
       "\n",
       "    .dataframe tbody tr th {\n",
       "        vertical-align: top;\n",
       "    }\n",
       "\n",
       "    .dataframe thead th {\n",
       "        text-align: right;\n",
       "    }\n",
       "</style>\n",
       "<table border=\"1\" class=\"dataframe\">\n",
       "  <thead>\n",
       "    <tr style=\"text-align: right;\">\n",
       "      <th></th>\n",
       "      <th>tweetId</th>\n",
       "      <th>tweetText</th>\n",
       "      <th>userId</th>\n",
       "      <th>imageId(s)</th>\n",
       "      <th>username</th>\n",
       "      <th>timestamp</th>\n",
       "      <th>label</th>\n",
       "    </tr>\n",
       "  </thead>\n",
       "  <tbody>\n",
       "    <tr>\n",
       "      <th>0</th>\n",
       "      <td>5.788550e+17</td>\n",
       "      <td>kereeen RT @Shyman33: Eclipse from ISS.... htt...</td>\n",
       "      <td>7.082497e+07</td>\n",
       "      <td>eclipse_01</td>\n",
       "      <td>peay_s</td>\n",
       "      <td>Fri Mar 20 09:45:43 +0000 2015</td>\n",
       "      <td>fake</td>\n",
       "    </tr>\n",
       "    <tr>\n",
       "      <th>1</th>\n",
       "      <td>5.788750e+17</td>\n",
       "      <td>Absolutely beautiful! RT @Shyman33: Eclipse fr...</td>\n",
       "      <td>3.447070e+08</td>\n",
       "      <td>eclipse_01</td>\n",
       "      <td>JaredUcanChange</td>\n",
       "      <td>Fri Mar 20 11:04:02 +0000 2015</td>\n",
       "      <td>fake</td>\n",
       "    </tr>\n",
       "    <tr>\n",
       "      <th>2</th>\n",
       "      <td>5.788910e+17</td>\n",
       "      <td>�@Shyman33: Eclipse from ISS.... http://t.co/C...</td>\n",
       "      <td>2.248396e+08</td>\n",
       "      <td>eclipse_01</td>\n",
       "      <td>tpjp1231</td>\n",
       "      <td>Fri Mar 20 12:10:06 +0000 2015</td>\n",
       "      <td>fake</td>\n",
       "    </tr>\n",
       "    <tr>\n",
       "      <th>3</th>\n",
       "      <td>5.788470e+17</td>\n",
       "      <td>Eclipse from ISS.... http://t.co/En87OtvsU6</td>\n",
       "      <td>1.345431e+08</td>\n",
       "      <td>eclipse_01</td>\n",
       "      <td>Shyman33</td>\n",
       "      <td>Fri Mar 20 09:12:41 +0000 2015</td>\n",
       "      <td>fake</td>\n",
       "    </tr>\n",
       "    <tr>\n",
       "      <th>4</th>\n",
       "      <td>5.789750e+17</td>\n",
       "      <td>@ebonfigli: �clipse vue de l'ISS... Autre chos...</td>\n",
       "      <td>1.150729e+09</td>\n",
       "      <td>eclipse_01</td>\n",
       "      <td>Epimethee_</td>\n",
       "      <td>Fri Mar 20 17:44:11 +0000 2015</td>\n",
       "      <td>fake</td>\n",
       "    </tr>\n",
       "  </tbody>\n",
       "</table>\n",
       "</div>"
      ],
      "text/plain": [
       "        tweetId                                          tweetText  \\\n",
       "0  5.788550e+17  kereeen RT @Shyman33: Eclipse from ISS.... htt...   \n",
       "1  5.788750e+17  Absolutely beautiful! RT @Shyman33: Eclipse fr...   \n",
       "2  5.788910e+17  �@Shyman33: Eclipse from ISS.... http://t.co/C...   \n",
       "3  5.788470e+17        Eclipse from ISS.... http://t.co/En87OtvsU6   \n",
       "4  5.789750e+17  @ebonfigli: �clipse vue de l'ISS... Autre chos...   \n",
       "\n",
       "         userId   imageId(s)         username                       timestamp  \\\n",
       "0  7.082497e+07  eclipse_01            peay_s  Fri Mar 20 09:45:43 +0000 2015   \n",
       "1  3.447070e+08  eclipse_01   JaredUcanChange  Fri Mar 20 11:04:02 +0000 2015   \n",
       "2  2.248396e+08  eclipse_01          tpjp1231  Fri Mar 20 12:10:06 +0000 2015   \n",
       "3  1.345431e+08  eclipse_01          Shyman33  Fri Mar 20 09:12:41 +0000 2015   \n",
       "4  1.150729e+09   eclipse_01       Epimethee_  Fri Mar 20 17:44:11 +0000 2015   \n",
       "\n",
       "  label  \n",
       "0  fake  \n",
       "1  fake  \n",
       "2  fake  \n",
       "3  fake  \n",
       "4  fake  "
      ]
     },
     "execution_count": 6,
     "metadata": {},
     "output_type": "execute_result"
    }
   ],
   "source": [
    "testset.head(5)"
   ]
  },
  {
   "cell_type": "code",
   "execution_count": 7,
   "id": "d7beb607",
   "metadata": {},
   "outputs": [
    {
     "data": {
      "text/plain": [
       "(3781, 7)"
      ]
     },
     "execution_count": 7,
     "metadata": {},
     "output_type": "execute_result"
    }
   ],
   "source": [
    "df_test.shape #Size of testing data"
   ]
  },
  {
   "cell_type": "code",
   "execution_count": 8,
   "id": "6255802a",
   "metadata": {},
   "outputs": [
    {
     "data": {
      "text/plain": [
       "(14483, 7)"
      ]
     },
     "execution_count": 8,
     "metadata": {},
     "output_type": "execute_result"
    }
   ],
   "source": [
    "df_train.shape #Size of testing data"
   ]
  },
  {
   "cell_type": "markdown",
   "id": "50db1e77",
   "metadata": {},
   "source": [
    "# Data Characteruzation"
   ]
  },
  {
   "cell_type": "code",
   "execution_count": 9,
   "id": "69f7946e",
   "metadata": {},
   "outputs": [
    {
     "name": "stdout",
     "output_type": "stream",
     "text": [
      "<class 'pandas.core.frame.DataFrame'>\n",
      "RangeIndex: 14483 entries, 0 to 14482\n",
      "Data columns (total 7 columns):\n",
      " #   Column      Non-Null Count  Dtype  \n",
      "---  ------      --------------  -----  \n",
      " 0   tweetId     14483 non-null  float64\n",
      " 1   tweetText   14483 non-null  object \n",
      " 2   userId      14469 non-null  float64\n",
      " 3   imageId(s)  14469 non-null  object \n",
      " 4   username    14469 non-null  object \n",
      " 5   timestamp   14469 non-null  object \n",
      " 6   label       14469 non-null  object \n",
      "dtypes: float64(2), object(5)\n",
      "memory usage: 792.2+ KB\n"
     ]
    }
   ],
   "source": [
    "trainset.info()"
   ]
  },
  {
   "cell_type": "code",
   "execution_count": null,
   "id": "60d0ca90",
   "metadata": {},
   "outputs": [],
   "source": [
    "# # displaying the datatypes\n",
    "# display(df.dtypes)\n",
    "  \n",
    "# # converting 'Weight' and 'Salary' from float to int\n",
    "# df = df.astype({\"Weight\":'int', \"Salary\":'int'}) \n",
    "  \n",
    "# # displaying the datatypes\n",
    "# display(df.dtypes)\n",
    "\n",
    "# #####################################################################################################\n",
    "# # displaying the datatypes\n",
    "# display(df.dtypes)\n",
    "  \n",
    "# # converting 'Weight' from float to int\n",
    "# df_train['tweetID'] = df['tweetID'].astype(int)\n",
    "  \n",
    "# # displaying the datatypes\n",
    "# display(df.dtypes)"
   ]
  },
  {
   "cell_type": "code",
   "execution_count": 11,
   "id": "094cf200",
   "metadata": {},
   "outputs": [],
   "source": [
    "df_train['userId'] = df_train['userId'].fillna(0)"
   ]
  },
  {
   "cell_type": "code",
   "execution_count": 12,
   "id": "88f049cf",
   "metadata": {},
   "outputs": [
    {
     "data": {
      "text/plain": [
       "tweetId       float64\n",
       "tweetText      object\n",
       "userId        float64\n",
       "imageId(s)     object\n",
       "username       object\n",
       "timestamp      object\n",
       "label          object\n",
       "dtype: object"
      ]
     },
     "metadata": {},
     "output_type": "display_data"
    },
    {
     "data": {
      "text/plain": [
       "tweetId        int64\n",
       "tweetText     object\n",
       "userId         int64\n",
       "imageId(s)    object\n",
       "username      object\n",
       "timestamp     object\n",
       "label         object\n",
       "dtype: object"
      ]
     },
     "metadata": {},
     "output_type": "display_data"
    }
   ],
   "source": [
    "\n",
    "display(df_train.dtypes)\n",
    "df_train['tweetId'] = df_train['tweetId'].apply(np.int64)\n",
    "df_train['userId'] = df_train['userId'].apply(np.int64)\n",
    "\n",
    "display(df_train.dtypes)\n"
   ]
  },
  {
   "cell_type": "code",
   "execution_count": 13,
   "id": "44b014fc",
   "metadata": {},
   "outputs": [
    {
     "name": "stdout",
     "output_type": "stream",
     "text": [
      "<class 'pandas.core.frame.DataFrame'>\n",
      "RangeIndex: 3781 entries, 0 to 3780\n",
      "Data columns (total 7 columns):\n",
      " #   Column      Non-Null Count  Dtype  \n",
      "---  ------      --------------  -----  \n",
      " 0   tweetId     3781 non-null   float64\n",
      " 1   tweetText   3781 non-null   object \n",
      " 2   userId      3777 non-null   float64\n",
      " 3   imageId(s)  3777 non-null   object \n",
      " 4   username    3777 non-null   object \n",
      " 5   timestamp   3777 non-null   object \n",
      " 6   label       3777 non-null   object \n",
      "dtypes: float64(2), object(5)\n",
      "memory usage: 206.9+ KB\n"
     ]
    }
   ],
   "source": [
    "testset.info()"
   ]
  },
  {
   "cell_type": "code",
   "execution_count": 19,
   "id": "8a7480ba",
   "metadata": {},
   "outputs": [],
   "source": [
    "#df_train['new_col'] = df_train['imageId(s)'].apply(lambda x:  x.split('_')[1])\n",
    "\n",
    "#df_train['new_col'] = df_train['imageId(s)'].apply(lambda x:  x.split('_')[1] if(isinstance(x)) else x)\n",
    "\n",
    "df_train['new_col'] = df_train['imageId(s)'].apply(lambda x:  x.split('_')[1] if(isinstance(x,str)) else x)"
   ]
  },
  {
   "cell_type": "code",
   "execution_count": 22,
   "id": "bf880854",
   "metadata": {},
   "outputs": [
    {
     "data": {
      "text/plain": [
       "fake    9396\n",
       "real    5004\n",
       "02        47\n",
       "01        18\n",
       "03         3\n",
       "04         1\n",
       "Name: new_col, dtype: int64"
      ]
     },
     "execution_count": 22,
     "metadata": {},
     "output_type": "execute_result"
    }
   ],
   "source": [
    "df_train.head(20)\n",
    "df_train['new_col'].value_counts()"
   ]
  },
  {
   "cell_type": "code",
   "execution_count": null,
   "id": "7efc1ff3",
   "metadata": {},
   "outputs": [],
   "source": [
    "#Determine events covered and their frequency by image names in training data\n",
    "df_train.rename(columns = {'imageId(s)':'imgs'}, inplace = True)\n",
    "imgCount = df_train.groupby(df_train.imgs.str.split('_').str[0])['tweetId'].nunique()\n",
    "print (imgCount)"
   ]
  },
  {
   "cell_type": "code",
   "execution_count": null,
   "id": "dd7004f8",
   "metadata": {},
   "outputs": [],
   "source": [
    "#Determine events covered and their frequency by image names in testing data\n",
    "df_test.rename(columns = {'imageId(s)':'imgs'}, inplace = True)\n",
    "imgCount = df_test.groupby(df_test.imgs.str.split('_').str[0])['tweetId'].nunique()\n",
    "print (imgCount)"
   ]
  },
  {
   "cell_type": "code",
   "execution_count": null,
   "id": "35bd5a8e",
   "metadata": {},
   "outputs": [],
   "source": [
    "#Helper to look into the tweetText of a particular event image to determine what the event is\n",
    "selector = []\n",
    "for imgs in df_train['imgs']:\n",
    "    if \"sandy\" in imgs:\n",
    "        selector.append(True)\n",
    "    else:\n",
    "        selector.append(False)\n",
    "        \n",
    "isEvent = pandas.Series(selector)\n",
    "\n",
    "df_event = df_train[isEvent].head(61)\n",
    "\n",
    "for tweet in df_event['tweetText']:\n",
    "    print(tweet)"
   ]
  },
  {
   "cell_type": "code",
   "execution_count": null,
   "id": "76039359",
   "metadata": {},
   "outputs": [],
   "source": []
  }
 ],
 "metadata": {
  "kernelspec": {
   "display_name": "Python 3",
   "language": "python",
   "name": "python3"
  },
  "language_info": {
   "codemirror_mode": {
    "name": "ipython",
    "version": 3
   },
   "file_extension": ".py",
   "mimetype": "text/x-python",
   "name": "python",
   "nbconvert_exporter": "python",
   "pygments_lexer": "ipython3",
   "version": "3.8.8"
  }
 },
 "nbformat": 4,
 "nbformat_minor": 5
}
